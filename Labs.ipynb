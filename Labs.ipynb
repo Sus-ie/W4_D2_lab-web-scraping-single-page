{
 "cells": [
  {
   "cell_type": "code",
   "execution_count": 33,
   "id": "6adbf30e-1814-43c7-9ed7-d5322876d023",
   "metadata": {},
   "outputs": [],
   "source": [
    "import pandas as pd\n",
    "from bs4 import BeautifulSoup\n",
    "import requests"
   ]
  },
  {
   "cell_type": "code",
   "execution_count": 7,
   "id": "0165e6fe-095b-4b3b-8090-fff341015d89",
   "metadata": {},
   "outputs": [
    {
     "name": "stdout",
     "output_type": "stream",
     "text": [
      "Billboard Hot 100™\n"
     ]
    }
   ],
   "source": [
    "Url = \"https://www.billboard.com/charts/hot-100/\"\n",
    "\n",
    "page = requests.get(\"https://www.billboard.com/charts/hot-100/\")\n",
    "\n",
    "soup = BeautifulSoup(page.text, \"html\")\n",
    "\n",
    "print(soup.title.text)\n"
   ]
  },
  {
   "cell_type": "code",
   "execution_count": 9,
   "id": "79a94c93-8c5c-49b0-a610-23a28bab8001",
   "metadata": {},
   "outputs": [
    {
     "data": {
      "text/plain": [
       "200"
      ]
     },
     "execution_count": 9,
     "metadata": {},
     "output_type": "execute_result"
    }
   ],
   "source": [
    "response = requests.get(Url)\n",
    "response.status_code"
   ]
  },
  {
   "cell_type": "code",
   "execution_count": null,
   "id": "3e71a6ad-9661-4e42-b722-32b968d15e9d",
   "metadata": {},
   "outputs": [],
   "source": [
    "print(soup)"
   ]
  },
  {
   "cell_type": "code",
   "execution_count": 11,
   "id": "221dab89-865a-414c-8191-02bc3a85e5de",
   "metadata": {},
   "outputs": [],
   "source": [
    "soup = BeautifulSoup(response.text, 'html.parser')\n",
    "#print(soup.prettify())"
   ]
  },
  {
   "cell_type": "code",
   "execution_count": 13,
   "id": "dbc9bf5f-c82c-49dd-bba6-40326332b2c9",
   "metadata": {},
   "outputs": [
    {
     "name": "stdout",
     "output_type": "stream",
     "text": [
      "['A Bar Song (Tipsy)', 'I Had Some Help', 'Espresso', 'Good Luck, Babe!', 'Die With A Smile', 'Birds Of A Feather', 'Lose Control', 'Taste', 'Please Please Please', 'Not Like Us', 'Beautiful Things', 'Million Dollar Baby', 'Too Sweet', 'Dancing In The Flames', 'All Red', \"Ain't No Love In Oklahoma\", 'Hot To Go!', 'Miles On It', 'Lies Lies Lies', \"It's Ok I'm Ok\", 'Bed Chem', 'Cowgirls', 'Pink Skies', 'Austin', 'I Am Not Okay', 'I Can Do It With A Broken Heart', 'Kehlani', 'The Door', 'Pink Pony Club', 'Who', 'Saturn', '28', 'TGIF', 'Like That', 'Pour Me A Drink', 'Slow It Down', 'Si Antes Te Hubiera Conocido', 'Stick Season', 'You Look Like You Love Me', 'Stargazing', 'Guy For That', 'The Emptiness Machine', 'Wanna Be', 'Good Graces', 'High Road', 'Sailor Song', 'Big Dawgs', 'Wildflower', '360', 'Mamushi', 'La Patrulla', \"I Love You, I'm Sorry\", 'Houdini', 'Red Wine Supernova', 'Help Me', 'Guess', 'One Of Wun', 'Chevrolet', 'Casual', 'Whiskey Whiskey', 'Passport Junkie', 'Juno', 'Nights Like This', 'Lonely Road', \"Wind Up Missin' You\", 'Circadian Rhythm', 'Si No Quieres No', 'Love You, Miss You, Mean It', \"Think I'm In Love With You\", 'Nel', 'Am I Okay?', 'Apple', 'Coincidence', 'Talk Talk', 'Bad Dreams', 'Sharpest Tool', 'The Boy Is Mine', 'Dos Dias', 'Neva Play', 'Losers', 'Diet Pepsi', 'Shake Dat Ass (Twerk Song)', 'Lunch', 'Belong Together', 'Residuals', 'BAND4BAND', 'Beautiful As You', 'No Face', 'Femininomenon', 'Prove It', 'Fuel', 'Close To You', 'Chihiro', 'Slim Pickins', 'I Never Lie', 'U My Everything', 'My Kink Is Karma', 'Nasty', 'Parking Lot', 'Worst Way']\n"
     ]
    }
   ],
   "source": [
    "songs = []\n",
    "for element in soup.find_all(attrs={'class':'o-chart-results-list-row-container'}):\n",
    "    songs.append(element.h3.get_text(strip=True))\n",
    "print (songs)"
   ]
  },
  {
   "cell_type": "code",
   "execution_count": 15,
   "id": "85846fe2-56b8-4559-8d7b-d45941603409",
   "metadata": {},
   "outputs": [
    {
     "name": "stdout",
     "output_type": "stream",
     "text": [
      "['Shaboozey', 'Post Malone Featuring Morgan Wallen', 'Sabrina Carpenter', 'Chappell Roan', 'Lady Gaga & Bruno Mars', 'Billie Eilish', 'Teddy Swims', 'Sabrina Carpenter', 'Sabrina Carpenter', 'Kendrick Lamar', 'Benson Boone', 'Tommy Richman', 'Hozier', 'The Weeknd', 'Playboi Carti', 'Luke Combs', 'Chappell Roan', 'Marshmello & Kane Brown', 'Morgan Wallen', 'Tate McRae', 'Sabrina Carpenter', 'Morgan Wallen Featuring ERNEST', 'Zach Bryan', 'Dasha', 'Jelly Roll', 'Taylor Swift', 'Jordan Adetunji', 'Teddy Swims', 'Chappell Roan', 'Jimin', 'SZA', 'Zach Bryan', 'GloRilla', 'Future, Metro Boomin & Kendrick Lamar', 'Post Malone Featuring Blake Shelton', 'Benson Boone', 'Karol G', 'Noah Kahan', 'Ella Langley Featuring Riley Green', 'Myles Smith', 'Post Malone Featuring Luke Combs', 'Linkin Park', 'GloRilla & Megan Thee Stallion', 'Sabrina Carpenter', 'Koe Wetzel & Jessie Murph', 'Gigi Perez', 'Hanumankind X Kalmi', 'Billie Eilish', 'Charli xcx', 'Megan Thee Stallion Featuring Yuki Chiba', 'Peso Pluma & Neton Vega', 'Gracie Abrams', 'Eminem', 'Chappell Roan', 'Real Boston Richey', 'Charli xcx Featuring Billie Eilish', 'Gunna', 'Dustin Lynch Featuring Jelly Roll', 'Chappell Roan', 'Moneybagg Yo Featuring Morgan Wallen', 'Rod Wave', 'Sabrina Carpenter', 'The Kid LAROI', 'mgk & Jelly Roll', 'Tucker Wetmore', 'Drake', 'Luis R Conriquez x Neton Vega', 'Luke Bryan', 'Chris Stapleton', 'Fuerza Regida', 'Megan Moroney', 'Charli xcx', 'Sabrina Carpenter', 'Charli xcx Featuring Troye Sivan', 'Teddy Swims', 'Sabrina Carpenter', 'Ariana Grande', 'Tito Double P & Peso Pluma', 'Megan Thee Stallion & RM', 'Post Malone Featuring Jelly Roll', 'Addison Rae', 'BossMan DLow', 'Billie Eilish', 'Mark Ambor', 'Chris Brown', 'Central Cee & Lil Baby', 'Thomas Rhett', 'Drake', 'Chappell Roan', '21 Savage & Summer Walker', 'Eminem & JID', 'Gracie Abrams', 'Billie Eilish', 'Sabrina Carpenter', 'Zach Top', 'Sexyy Red & Drake', 'Chappell Roan', 'Tinashe', 'Mustard & Travis Scott', 'Riley Green']\n"
     ]
    }
   ],
   "source": [
    "bands = []\n",
    "for element in soup.find_all(attrs={'class':'o-chart-results-list-row-container'}):\n",
    "    bands.append(element.h3.find_next('span').get_text(strip=True))\n",
    "print (bands)"
   ]
  },
  {
   "cell_type": "code",
   "execution_count": 17,
   "id": "55d3cfac-cd07-4e2f-b040-00c28edb8206",
   "metadata": {
    "scrolled": true
   },
   "outputs": [
    {
     "name": "stdout",
     "output_type": "stream",
     "text": [
      "['1', '2', '3', '4', '5', '6', '7', '8', '9', '10', '11', '12', '13', '14', '15', '16', '17', '18', '19', '20', '21', '22', '23', '24', '25', '26', '27', '28', '29', '30', '31', '32', '33', '34', '35', '36', '37', '38', '39', '40', '41', '42', '43', '44', '45', '46', '47', '48', '49', '50', '51', '52', '53', '54', '55', '56', '57', '58', '59', '60', '61', '62', '63', '64', '65', '66', '67', '68', '69', '70', '71', '72', '73', '74', '75', '76', '77', '78', '79', '80', '81', '82', '83', '84', '85', '86', '87', '88', '89', '90', '91', '92', '93', '94', '95', '96', '97', '98', '99', '100']\n"
     ]
    }
   ],
   "source": [
    "rank =[]\n",
    "for element in soup.find_all(attrs={'class':'o-chart-results-list-row-container'}):\n",
    "    rank.append(element.li.find_next('span').get_text(strip=True))\n",
    "print (rank)"
   ]
  },
  {
   "cell_type": "code",
   "execution_count": 47,
   "id": "d83067ea-d355-4ee4-a78a-720eb5598bcf",
   "metadata": {},
   "outputs": [],
   "source": [
    "dictionary_data = {\"Rank\" : rank,\n",
    "                  \"Song\": songs,\n",
    "                  \"Artist\" : bands}"
   ]
  },
  {
   "cell_type": "code",
   "execution_count": 37,
   "id": "66e08171-1a94-411d-bcb2-134a38267fcb",
   "metadata": {},
   "outputs": [],
   "source": [
    "df = pd.DataFrame(dictionary_data)\n",
    "\n",
    "pd.set_option('display.max_columns', None) \n",
    "import warnings\n",
    "warnings.filterwarnings('ignore')"
   ]
  },
  {
   "cell_type": "code",
   "execution_count": 49,
   "id": "17d760bf-9cbd-4281-ad3f-984c9d22050b",
   "metadata": {},
   "outputs": [
    {
     "data": {
      "text/html": [
       "<div>\n",
       "<style scoped>\n",
       "    .dataframe tbody tr th:only-of-type {\n",
       "        vertical-align: middle;\n",
       "    }\n",
       "\n",
       "    .dataframe tbody tr th {\n",
       "        vertical-align: top;\n",
       "    }\n",
       "\n",
       "    .dataframe thead th {\n",
       "        text-align: right;\n",
       "    }\n",
       "</style>\n",
       "<table border=\"1\" class=\"dataframe\">\n",
       "  <thead>\n",
       "    <tr style=\"text-align: right;\">\n",
       "      <th></th>\n",
       "      <th>Rank</th>\n",
       "      <th>Song</th>\n",
       "      <th>Artist</th>\n",
       "    </tr>\n",
       "  </thead>\n",
       "  <tbody>\n",
       "    <tr>\n",
       "      <th>0</th>\n",
       "      <td>1</td>\n",
       "      <td>A Bar Song (Tipsy)</td>\n",
       "      <td>Shaboozey</td>\n",
       "    </tr>\n",
       "    <tr>\n",
       "      <th>1</th>\n",
       "      <td>2</td>\n",
       "      <td>I Had Some Help</td>\n",
       "      <td>Post Malone Featuring Morgan Wallen</td>\n",
       "    </tr>\n",
       "    <tr>\n",
       "      <th>2</th>\n",
       "      <td>3</td>\n",
       "      <td>Espresso</td>\n",
       "      <td>Sabrina Carpenter</td>\n",
       "    </tr>\n",
       "    <tr>\n",
       "      <th>3</th>\n",
       "      <td>4</td>\n",
       "      <td>Good Luck, Babe!</td>\n",
       "      <td>Chappell Roan</td>\n",
       "    </tr>\n",
       "    <tr>\n",
       "      <th>4</th>\n",
       "      <td>5</td>\n",
       "      <td>Die With A Smile</td>\n",
       "      <td>Lady Gaga &amp; Bruno Mars</td>\n",
       "    </tr>\n",
       "    <tr>\n",
       "      <th>...</th>\n",
       "      <td>...</td>\n",
       "      <td>...</td>\n",
       "      <td>...</td>\n",
       "    </tr>\n",
       "    <tr>\n",
       "      <th>95</th>\n",
       "      <td>96</td>\n",
       "      <td>U My Everything</td>\n",
       "      <td>Sexyy Red &amp; Drake</td>\n",
       "    </tr>\n",
       "    <tr>\n",
       "      <th>96</th>\n",
       "      <td>97</td>\n",
       "      <td>My Kink Is Karma</td>\n",
       "      <td>Chappell Roan</td>\n",
       "    </tr>\n",
       "    <tr>\n",
       "      <th>97</th>\n",
       "      <td>98</td>\n",
       "      <td>Nasty</td>\n",
       "      <td>Tinashe</td>\n",
       "    </tr>\n",
       "    <tr>\n",
       "      <th>98</th>\n",
       "      <td>99</td>\n",
       "      <td>Parking Lot</td>\n",
       "      <td>Mustard &amp; Travis Scott</td>\n",
       "    </tr>\n",
       "    <tr>\n",
       "      <th>99</th>\n",
       "      <td>100</td>\n",
       "      <td>Worst Way</td>\n",
       "      <td>Riley Green</td>\n",
       "    </tr>\n",
       "  </tbody>\n",
       "</table>\n",
       "<p>100 rows × 3 columns</p>\n",
       "</div>"
      ],
      "text/plain": [
       "   Rank                Song                               Artist\n",
       "0     1  A Bar Song (Tipsy)                            Shaboozey\n",
       "1     2     I Had Some Help  Post Malone Featuring Morgan Wallen\n",
       "2     3            Espresso                    Sabrina Carpenter\n",
       "3     4    Good Luck, Babe!                        Chappell Roan\n",
       "4     5    Die With A Smile               Lady Gaga & Bruno Mars\n",
       "..  ...                 ...                                  ...\n",
       "95   96     U My Everything                    Sexyy Red & Drake\n",
       "96   97    My Kink Is Karma                        Chappell Roan\n",
       "97   98               Nasty                              Tinashe\n",
       "98   99         Parking Lot               Mustard & Travis Scott\n",
       "99  100           Worst Way                          Riley Green\n",
       "\n",
       "[100 rows x 3 columns]"
      ]
     },
     "execution_count": 49,
     "metadata": {},
     "output_type": "execute_result"
    }
   ],
   "source": [
    "df =pd.DataFrame(dictionary_data)\n",
    "df"
   ]
  },
  {
   "cell_type": "code",
   "execution_count": null,
   "id": "d681ac90-d674-4e28-9ab2-36ff35a6dbe8",
   "metadata": {},
   "outputs": [],
   "source": []
  },
  {
   "cell_type": "code",
   "execution_count": null,
   "id": "25990944-514d-44ed-bf98-42c44f0dfc80",
   "metadata": {},
   "outputs": [],
   "source": []
  },
  {
   "cell_type": "code",
   "execution_count": null,
   "id": "582edbb3-384a-4527-ba56-1e388df8da5f",
   "metadata": {},
   "outputs": [],
   "source": []
  }
 ],
 "metadata": {
  "kernelspec": {
   "display_name": "Python 3 (ipykernel)",
   "language": "python",
   "name": "python3"
  },
  "language_info": {
   "codemirror_mode": {
    "name": "ipython",
    "version": 3
   },
   "file_extension": ".py",
   "mimetype": "text/x-python",
   "name": "python",
   "nbconvert_exporter": "python",
   "pygments_lexer": "ipython3",
   "version": "3.11.7"
  }
 },
 "nbformat": 4,
 "nbformat_minor": 5
}
